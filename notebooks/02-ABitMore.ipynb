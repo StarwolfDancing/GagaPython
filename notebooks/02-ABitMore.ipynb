{
 "cells": [
  {
   "cell_type": "markdown",
   "metadata": {},
   "source": [
    "# 02 - First example pushed a bit further\n",
    "[Last example](01-ForTheImpatient.ipynb) was meant to make your mouth water. Now, we push it a little further.\n",
    "\n",
    "## Scope\n",
    "- Read `csv` file (with data for all countries) into pandas data frame.\n",
    "- Prepare `Dataframe`, select one country and plot data.\n",
    "\n",
    "## Sources\n",
    "- [IO tools (text, CSV, HDF5, …) — pandas documentation](https://pandas.pydata.org/docs/user_guide/io.html)\n",
    "- [pandas.DataFrame.plot — pandas documentation](https://pandas.pydata.org/docs/reference/api/pandas.DataFrame.plot.html)\n",
    "- [Life Expectancy - Our World in Data](https://ourworldindata.org/life-expectancy)"
   ]
  },
  {
   "cell_type": "code",
   "execution_count": null,
   "metadata": {},
   "outputs": [],
   "source": [
    "# Preparations for using pandas library and this notebook\n",
    "import pandas as pd\n",
    "# Makes your plot outputs appear and be stored within the notebook\n",
    "%matplotlib inline"
   ]
  },
  {
   "cell_type": "markdown",
   "metadata": {},
   "source": [
    "## Hints\n",
    "- Select following cell and hit `Alt-Enter` -> Executes cell and adds a new cell below\n",
    "- Use tabulator for hints (it might take a while), write `d` and hit tabulator and click `data_source` from popup menue (Assuming that you executed the cell above).\n",
    "- After finishing `data_source`, type '.' and hit tab again, type 'u', choose upper function and add `()` and execute cell."
   ]
  },
  {
   "cell_type": "code",
   "execution_count": null,
   "metadata": {},
   "outputs": [],
   "source": [
    "# Preparing pandas data frame\n",
    "data_source = 'ourworldindata.org'\n",
    "file_id = 'life-expectancy.csv'\n",
    "life_expectancy = pd.read_csv(file_id).set_index('Year')"
   ]
  },
  {
   "cell_type": "markdown",
   "metadata": {},
   "source": [
    "## Hints\n",
    "- [Built-in Function: dict()](https://docs.python.org/3.7/library/functions.html#func-dict)"
   ]
  },
  {
   "cell_type": "code",
   "execution_count": null,
   "metadata": {},
   "outputs": [],
   "source": [
    "life_expectancy.drop(columns=['Code'], inplace=True)\t# Unused column\n",
    "life_expectancy.rename(columns={'Entity': 'Country'}, inplace=True)\n",
    "life_expectancy"
   ]
  },
  {
   "cell_type": "markdown",
   "metadata": {},
   "source": [
    "## Hints\n",
    "- [Built-in Function: type()](https://docs.python.org/3.7/library/functions.html#type)\n",
    "- [Built-in Function: len()](https://docs.python.org/3.7/library/functions.html#len)\n",
    "- [NumPy Documentation](https://numpy.org/doc)"
   ]
  },
  {
   "cell_type": "code",
   "execution_count": null,
   "metadata": {},
   "outputs": [],
   "source": [
    "# What happens, if you change the number in [:10], e.g. to 20 or to 1000?\n",
    "all_countries = life_expectancy['Country'].unique()\t# All countries\n",
    "all_countries[:20]\t# Top entries of all countries"
   ]
  },
  {
   "cell_type": "markdown",
   "metadata": {},
   "source": [
    "## Try\n",
    "- Show the last 10 countries"
   ]
  },
  {
   "cell_type": "markdown",
   "metadata": {},
   "source": [
    "## Hints\n",
    "- [pandas select column by name](https://duckduckgo.com/?q=pandas+select+column+by+name&t=opera&ia=web)"
   ]
  },
  {
   "cell_type": "code",
   "execution_count": null,
   "metadata": {},
   "outputs": [],
   "source": [
    "# Plotting data for one country\n",
    "country_name = 'Andorra'\t# Choose one from above\n",
    "\n",
    "country_selector = life_expectancy['Country']==country_name\n",
    "plot_title = f'Country:  {country_name} Source: {file_id} from {data_source})'\n",
    "life_expectancy[country_selector].plot(title=plot_title, grid=True, figsize=(16, 9));"
   ]
  },
  {
   "cell_type": "markdown",
   "metadata": {},
   "source": [
    "## Try\n",
    "- `type(life_expectancy)`\n",
    "- `type(life_expectancy['Entity'])`\n",
    "- `type(life_expectancy['Entity'].unique())`"
   ]
  },
  {
   "cell_type": "markdown",
   "metadata": {},
   "source": [
    "The procedure above seems quite awkward, which leads us to the [data manipulation tutorial](./03-ReshapeData.ipynb)."
   ]
  },
  {
   "cell_type": "code",
   "execution_count": null,
   "metadata": {},
   "outputs": [],
   "source": []
  }
 ],
 "metadata": {
  "file_extension": ".py",
  "kernelspec": {
   "display_name": "Python 3.7.4 64-bit ('anaconda3': virtualenv)",
   "language": "python",
   "name": "python37464bitanaconda3virtualenv100eb20cdf104c53a74bc4f1cac14e80"
  },
  "language_info": {
   "codemirror_mode": {
    "name": "ipython",
    "version": 3
   },
   "file_extension": ".py",
   "mimetype": "text/x-python",
   "name": "python",
   "nbconvert_exporter": "python",
   "pygments_lexer": "ipython3",
   "version": "3.7.4"
  },
  "mimetype": "text/x-python",
  "name": "python",
  "npconvert_exporter": "python",
  "pygments_lexer": "ipython3",
  "version": 3
 },
 "nbformat": 4,
 "nbformat_minor": 4
}
