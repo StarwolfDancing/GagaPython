{
 "cells": [
  {
   "cell_type": "markdown",
   "metadata": {},
   "source": [
    "# Answers\n",
    "\n",
    "## 1. Section\n",
    "ytc\n",
    "\n",
    "## 2. Section\n",
    "ytc\n",
    "\n",
    "## 3. Section\n",
    "- How to get rid of the empty part of the `some_countries` plot ([`NaN`](https://pandas.pydata.org/pandas-docs/stable/reference/api/pandas.DataFrame.dropna.html))?\n",
    "- How to find a certain country [without knowing the exact name](https://pandas.pydata.org/pandas-docs/stable/reference/api/pandas.Series.str.contains.html)?\n",
    "\n",
    "```\n",
    "some_countries.dropna().plot(title=plot_title, grid=True, figsize=(16, 9));\n",
    "\n",
    "found_entries = all_countries.str.contains('rica')\n",
    "all_countries[found_entries]\n",
    "```"
   ]
  },
  {
   "cell_type": "code",
   "execution_count": null,
   "metadata": {},
   "outputs": [],
   "source": []
  }
 ],
 "metadata": {
  "kernelspec": {
   "display_name": "Python 3",
   "language": "python",
   "name": "python3"
  },
  "language_info": {
   "codemirror_mode": {
    "name": "ipython",
    "version": 3
   },
   "file_extension": ".py",
   "mimetype": "text/x-python",
   "name": "python",
   "nbconvert_exporter": "python",
   "pygments_lexer": "ipython3",
   "version": "3.7.5"
  }
 },
 "nbformat": 4,
 "nbformat_minor": 4
}
