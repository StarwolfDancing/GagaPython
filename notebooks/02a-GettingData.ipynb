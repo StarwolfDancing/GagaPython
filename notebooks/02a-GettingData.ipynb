{
 "cells": [
  {
   "cell_type": "markdown",
   "metadata": {},
   "source": [
    "# 02a - How to Get Data\n",
    "So far we used clean data sets, but what if there is no such thing? Here a quick & somewhat dirty way to get data from a web site or out of a `pdf` document.\n",
    "\n",
    "## Scope\n",
    "- Get data from web site through a spreadsheet application.\n",
    "- Read `csv` file into pandas data frame.\n",
    "- Check the result.\n",
    "\n",
    "## Sources\n",
    "- [List of countries by life expectancy - Wikipedia](https://en.wikipedia.org/wiki/List_of_countries_by_life_expectancy)\n",
    "- [IO tools (text, CSV, HDF5, …) — pandas documentation](https://pandas.pydata.org/docs/user_guide/io.html)\n"
   ]
  },
  {
   "cell_type": "code",
   "execution_count": 1,
   "metadata": {},
   "outputs": [],
   "source": [
    "# Preparations for using pandas library and this notebook\n",
    "import pandas as pd\n",
    "import matplotlib.pyplot as plt\n",
    "# Makes your plot outputs appear and be stored within the notebook\n",
    "%matplotlib inline"
   ]
  },
  {
   "cell_type": "markdown",
   "metadata": {},
   "source": [
    "## Procedure\n",
    "1. Open web site, e.g. https://en.wikipedia.org/wiki/List_of_countries_by_life_expectancy\n",
    "2. Select part of table and past it in a blank `Excel` or `LibreOffice Calc` sheet.\n",
    "3. Check if the entries are ok.\n",
    "4. Add header line, if necessary.\n",
    "5. Save data as `Excel`, `csv` or `ods` file.\n",
    "6. Read data with pandas."
   ]
  },
  {
   "cell_type": "code",
   "execution_count": 2,
   "metadata": {},
   "outputs": [
    {
     "data": {
      "text/plain": [
       "Index(['Country', 'Overall', 'Female', 'Male'], dtype='object')"
      ]
     },
     "execution_count": 2,
     "metadata": {},
     "output_type": "execute_result"
    }
   ],
   "source": [
    "# Preparing pandas data frame\n",
    "data_source = 'https://en.wikipedia.org'\n",
    "file_id = 'List of countries by life expectancy - Wikipedia.csv'\n",
    "wiki_data = pd.read_csv(file_id)\n",
    "wiki_data.drop(columns=['Rank'], inplace=True)\n",
    "wiki_data.columns = [col_name.strip() for col_name in wiki_data.columns]\t# Comment line and see what is happens; what is the difference?\n",
    "wiki_data.columns"
   ]
  },
  {
   "cell_type": "code",
   "execution_count": 3,
   "metadata": {},
   "outputs": [
    {
     "data": {
      "text/html": [
       "<div>\n",
       "<style scoped>\n",
       "    .dataframe tbody tr th:only-of-type {\n",
       "        vertical-align: middle;\n",
       "    }\n",
       "\n",
       "    .dataframe tbody tr th {\n",
       "        vertical-align: top;\n",
       "    }\n",
       "\n",
       "    .dataframe thead th {\n",
       "        text-align: right;\n",
       "    }\n",
       "</style>\n",
       "<table border=\"1\" class=\"dataframe\">\n",
       "  <thead>\n",
       "    <tr style=\"text-align: right;\">\n",
       "      <th></th>\n",
       "      <th>Overall</th>\n",
       "      <th>Female</th>\n",
       "      <th>Male</th>\n",
       "    </tr>\n",
       "    <tr>\n",
       "      <th>Country</th>\n",
       "      <th></th>\n",
       "      <th></th>\n",
       "      <th></th>\n",
       "    </tr>\n",
       "  </thead>\n",
       "  <tbody>\n",
       "    <tr>\n",
       "      <td>Japan</td>\n",
       "      <td>84.5</td>\n",
       "      <td>87.5</td>\n",
       "      <td>81.1</td>\n",
       "    </tr>\n",
       "    <tr>\n",
       "      <td>Hong Kong</td>\n",
       "      <td>84.1</td>\n",
       "      <td>87.0</td>\n",
       "      <td>81.2</td>\n",
       "    </tr>\n",
       "    <tr>\n",
       "      <td>Singapore</td>\n",
       "      <td>83.8</td>\n",
       "      <td>85.8</td>\n",
       "      <td>81.5</td>\n",
       "    </tr>\n",
       "    <tr>\n",
       "      <td>Italy</td>\n",
       "      <td>83.6</td>\n",
       "      <td>85.5</td>\n",
       "      <td>81.7</td>\n",
       "    </tr>\n",
       "    <tr>\n",
       "      <td>Spain</td>\n",
       "      <td>83.4</td>\n",
       "      <td>86.1</td>\n",
       "      <td>80.7</td>\n",
       "    </tr>\n",
       "    <tr>\n",
       "      <td>Switzerland</td>\n",
       "      <td>83.4</td>\n",
       "      <td>85.3</td>\n",
       "      <td>81.1</td>\n",
       "    </tr>\n",
       "    <tr>\n",
       "      <td>Australia</td>\n",
       "      <td>83.3</td>\n",
       "      <td>85.3</td>\n",
       "      <td>81.3</td>\n",
       "    </tr>\n",
       "    <tr>\n",
       "      <td>Iceland</td>\n",
       "      <td>82.9</td>\n",
       "      <td>84.4</td>\n",
       "      <td>81.3</td>\n",
       "    </tr>\n",
       "    <tr>\n",
       "      <td>Israel</td>\n",
       "      <td>82.8</td>\n",
       "      <td>84.4</td>\n",
       "      <td>81.1</td>\n",
       "    </tr>\n",
       "    <tr>\n",
       "      <td>South Korea</td>\n",
       "      <td>82.8</td>\n",
       "      <td>85.8</td>\n",
       "      <td>79.7</td>\n",
       "    </tr>\n",
       "    <tr>\n",
       "      <td>Sweden</td>\n",
       "      <td>82.7</td>\n",
       "      <td>84.4</td>\n",
       "      <td>80.9</td>\n",
       "    </tr>\n",
       "    <tr>\n",
       "      <td>France</td>\n",
       "      <td>82.5</td>\n",
       "      <td>85.4</td>\n",
       "      <td>79.6</td>\n",
       "    </tr>\n",
       "    <tr>\n",
       "      <td>Malta</td>\n",
       "      <td>82.4</td>\n",
       "      <td>84.1</td>\n",
       "      <td>80.5</td>\n",
       "    </tr>\n",
       "    <tr>\n",
       "      <td>Canada</td>\n",
       "      <td>82.3</td>\n",
       "      <td>84.3</td>\n",
       "      <td>80.3</td>\n",
       "    </tr>\n",
       "    <tr>\n",
       "      <td>Norway</td>\n",
       "      <td>82.3</td>\n",
       "      <td>84.3</td>\n",
       "      <td>80.3</td>\n",
       "    </tr>\n",
       "    <tr>\n",
       "      <td>Greece</td>\n",
       "      <td>82.1</td>\n",
       "      <td>84.5</td>\n",
       "      <td>79.6</td>\n",
       "    </tr>\n",
       "    <tr>\n",
       "      <td>Ireland</td>\n",
       "      <td>82.1</td>\n",
       "      <td>83.7</td>\n",
       "      <td>80.4</td>\n",
       "    </tr>\n",
       "    <tr>\n",
       "      <td>Luxembourg</td>\n",
       "      <td>82.1</td>\n",
       "      <td>84.2</td>\n",
       "      <td>80.0</td>\n",
       "    </tr>\n",
       "    <tr>\n",
       "      <td>Netherlands</td>\n",
       "      <td>82.1</td>\n",
       "      <td>83.8</td>\n",
       "      <td>80.4</td>\n",
       "    </tr>\n",
       "    <tr>\n",
       "      <td>New Zealand</td>\n",
       "      <td>82.1</td>\n",
       "      <td>83.9</td>\n",
       "      <td>80.4</td>\n",
       "    </tr>\n",
       "    <tr>\n",
       "      <td>Portugal</td>\n",
       "      <td>81.9</td>\n",
       "      <td>84.7</td>\n",
       "      <td>78.8</td>\n",
       "    </tr>\n",
       "    <tr>\n",
       "      <td>Andorra</td>\n",
       "      <td>81.8</td>\n",
       "      <td>NaN</td>\n",
       "      <td>NaN</td>\n",
       "    </tr>\n",
       "  </tbody>\n",
       "</table>\n",
       "</div>"
      ],
      "text/plain": [
       "               Overall  Female  Male\n",
       "Country                             \n",
       " Japan            84.5    87.5  81.1\n",
       " Hong Kong        84.1    87.0  81.2\n",
       " Singapore        83.8    85.8  81.5\n",
       " Italy            83.6    85.5  81.7\n",
       " Spain            83.4    86.1  80.7\n",
       "  Switzerland     83.4    85.3  81.1\n",
       " Australia        83.3    85.3  81.3\n",
       " Iceland          82.9    84.4  81.3\n",
       " Israel           82.8    84.4  81.1\n",
       " South Korea      82.8    85.8  79.7\n",
       " Sweden           82.7    84.4  80.9\n",
       " France           82.5    85.4  79.6\n",
       " Malta            82.4    84.1  80.5\n",
       " Canada           82.3    84.3  80.3\n",
       " Norway           82.3    84.3  80.3\n",
       " Greece           82.1    84.5  79.6\n",
       " Ireland          82.1    83.7  80.4\n",
       " Luxembourg       82.1    84.2  80.0\n",
       " Netherlands      82.1    83.8  80.4\n",
       " New Zealand      82.1    83.9  80.4\n",
       " Portugal         81.9    84.7  78.8\n",
       " Andorra          81.8     NaN   NaN"
      ]
     },
     "execution_count": 3,
     "metadata": {},
     "output_type": "execute_result"
    }
   ],
   "source": [
    "wiki_data.set_index('Country', inplace=True)\n",
    "wiki_data"
   ]
  },
  {
   "cell_type": "code",
   "execution_count": 4,
   "metadata": {},
   "outputs": [
    {
     "data": {
      "image/png": "[encoded data removed]",
      "text/plain": [
       "<Figure size 1152x648 with 1 Axes>"
      ]
     },
     "metadata": {
      "needs_background": "light"
     },
     "output_type": "display_data"
    }
   ],
   "source": [
    "ax = wiki_data.plot(kind='barh', title=f'{file_id} (Source: {data_source})', grid=True, figsize=(16, 9));"
   ]
  },
  {
   "cell_type": "code",
   "execution_count": 5,
   "metadata": {},
   "outputs": [
    {
     "data": {
      "text/plain": [
       "'List of countries by life expectancy - Wikipedia.png'"
      ]
     },
     "execution_count": 5,
     "metadata": {},
     "output_type": "execute_result"
    }
   ],
   "source": [
    "plot_id = file_id.replace('.csv', '.png')\n",
    "plot_id"
   ]
  },
  {
   "cell_type": "code",
   "execution_count": 10,
   "metadata": {},
   "outputs": [],
   "source": [
    "ax.get_figure().savefig(f'{plot_id}')"
   ]
  },
  {
   "cell_type": "markdown",
   "metadata": {},
   "source": [
    "## Try\n",
    "- Plot data in reversed order.\n",
    "- Plot only the range of 70 years and up.\n",
    "- Use Markup to display the exported `png` file. Hint: Check out Markdown in [index.ipynb](../index.ipynb) by double clicking cell.\n",
    "- Go through the same procedure using this [`pdf`](./List_of_countries_by_life_expectancy.pdf) file."
   ]
  },
  {
   "cell_type": "markdown",
   "metadata": {},
   "source": [
    "<img src=\"List of countries by life expectancy - Wikipedia.png\">"
   ]
  },
  {
   "cell_type": "code",
   "execution_count": null,
   "metadata": {},
   "outputs": [],
   "source": []
  }
 ],
 "metadata": {
  "file_extension": ".py",
  "kernelspec": {
   "display_name": "Python 3.7.4 64-bit ('anaconda3': virtualenv)",
   "language": "python",
   "name": "python37464bitanaconda3virtualenv100eb20cdf104c53a74bc4f1cac14e80"
  },
  "language_info": {
   "codemirror_mode": {
    "name": "ipython",
    "version": 3
   },
   "file_extension": ".py",
   "mimetype": "text/x-python",
   "name": "python",
   "nbconvert_exporter": "python",
   "pygments_lexer": "ipython3",
   "version": "3.7.4"
  },
  "mimetype": "text/x-python",
  "name": "python",
  "npconvert_exporter": "python",
  "pygments_lexer": "ipython3",
  "version": 3
 },
 "nbformat": 4,
 "nbformat_minor": 4
}
