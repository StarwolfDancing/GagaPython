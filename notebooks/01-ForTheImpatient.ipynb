{
 "cells": [
  {
   "cell_type": "markdown",
   "metadata": {},
   "source": [
    "# 01 - For the impatient ... like me\n",
    "I like to start with a current issue to learn someting new. Most people probably have come accross Excel in one way or another. For me, a better, faster ... way to do Excel stuff is to use the [Pandas](https://pandas.pydata.org) library. And the results look a lot better;o)\n",
    "\n",
    "## Scope\n",
    "- Read `Excel` file (with one very simple table) into pandas data frame, which is a very skillful table.\n",
    "- Prepare `Dataframe` and plot data.\n",
    "\n",
    "## Sources\n",
    "- [10 minutes to pandas — pandas documentation](https://pandas.pydata.org/pandas-docs/stable/getting_started/10min.html)\n",
    "- [IO tools (text, CSV, HDF5, …) — pandas documentation](https://pandas.pydata.org/docs/user_guide/io.html)\n",
    "- [pandas.DataFrame.plot — pandas documentation](https://pandas.pydata.org/docs/reference/api/pandas.DataFrame.plot.html)\n",
    "- [Life Expectancy - Our World in Data](https://ourworldindata.org/life-expectancy)\n",
    "\n",
    "## Hints\n",
    "- Start below by clicking cell, hit ``Shift-Enter`` and see what's happening\n",
    "- If weird things are happening, e.g. evil red text aka errors, then go to Kernel menue `Restart & Clear Output` to start all over again."
   ]
  },
  {
   "cell_type": "code",
   "execution_count": null,
   "metadata": {},
   "outputs": [],
   "source": [
    "# Preparations for using pandas library in this notebook\n",
    "import pandas as pd\n",
    "# Makes your plot outputs appear and be stored within the notebook\n",
    "%matplotlib inline\n",
    "pd.__version__"
   ]
  },
  {
   "cell_type": "code",
   "execution_count": null,
   "metadata": {},
   "outputs": [],
   "source": [
    "# Reading data into a pandas dataframe and some preparations\n",
    "data_source = 'ourworldindata.org'\n",
    "file_id = 'life-expectancy_world.xlsx'\n",
    "life_expectancy_world = pd.read_excel(file_id).set_index('Year')\n",
    "#life_expectancy_world.info()\t# Uncomment to see data frame structure"
   ]
  },
  {
   "cell_type": "code",
   "execution_count": null,
   "metadata": {},
   "outputs": [],
   "source": [
    "# Show part of data (try .tail()) \n",
    "life_expectancy_world.head()"
   ]
  },
  {
   "cell_type": "code",
   "execution_count": null,
   "metadata": {},
   "outputs": [],
   "source": [
    "# Plotting data\n",
    "life_expectancy_world.plot(title=f'Source: {data_source} ({file_id})', grid=True, figsize=(16, 9));"
   ]
  },
  {
   "cell_type": "markdown",
   "metadata": {},
   "source": [
    "Run the whole notebook with `life-expectancy_world.csv` "
   ]
  },
  {
   "cell_type": "markdown",
   "metadata": {},
   "source": [
    "## Try\n",
    "- Save the plot (and all the rest of it) from above using the `File` menue. Hint: `Markdown` is cool;o)"
   ]
  },
  {
   "cell_type": "markdown",
   "metadata": {},
   "source": [
    "This notebook only used one segement (world data) of the original data file (all countries) in the [next tutorial](./02-ABitMore.ipynb), the whole file is used."
   ]
  },
  {
   "cell_type": "code",
   "execution_count": null,
   "metadata": {},
   "outputs": [],
   "source": []
  }
 ],
 "metadata": {
  "file_extension": ".py",
  "kernelspec": {
   "display_name": "Python 3.7.4 64-bit ('anaconda3': virtualenv)",
   "language": "python",
   "name": "python37464bitanaconda3virtualenv100eb20cdf104c53a74bc4f1cac14e80"
  },
  "language_info": {
   "codemirror_mode": {
    "name": "ipython",
    "version": 3
   },
   "file_extension": ".py",
   "mimetype": "text/x-python",
   "name": "python",
   "nbconvert_exporter": "python",
   "pygments_lexer": "ipython3",
   "version": "3.7.4"
  },
  "mimetype": "text/x-python",
  "name": "python",
  "npconvert_exporter": "python",
  "pygments_lexer": "ipython3",
  "version": 3
 },
 "nbformat": 4,
 "nbformat_minor": 4
}
