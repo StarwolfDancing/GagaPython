{
 "cells": [
  {
   "cell_type": "markdown",
   "metadata": {},
   "source": [
    "# 04 - Grouping Data (tbf)\n",
    "Now we are interested the differences with respect to continents, e.g. Europe and Asia.\n",
    "\n",
    "## Scope\n",
    "- ...\n",
    "\n",
    "## Sources\n",
    "- [pandas.read_csv — documentation](https://pandas.pydata.org/docs/reference/api/pandas.read_csv.html)\n",
    "- [pandas.DataFrame.groupby — pandas documentation](https://pandas.pydata.org/pandas-docs/stable/reference/api/pandas.DataFrame.groupby.html)\n",
    "- [PyFormat: Using % and .format() for great good!](https://pyformat.info)"
   ]
  },
  {
   "cell_type": "code",
   "execution_count": null,
   "metadata": {},
   "outputs": [],
   "source": [
    "# Preparations for using pandas library and this notebook\n",
    "import pandas as pd\n",
    "%matplotlib inline"
   ]
  },
  {
   "cell_type": "code",
   "execution_count": null,
   "metadata": {},
   "outputs": [],
   "source": [
    "# Reading data into a pandas data frame, some cleaning up\n",
    "data_source = 'ourworldindata.org'\n",
    "file_id = 'life-expectancy_regions.csv'\n",
    "life_expectancy = pd.read_csv(file_id)\n",
    "life_expectancy"
   ]
  },
  {
   "cell_type": "code",
   "execution_count": null,
   "metadata": {},
   "outputs": [],
   "source": [
    "group_by_region = life_expectancy.groupby('Region')"
   ]
  },
  {
   "cell_type": "code",
   "execution_count": null,
   "metadata": {},
   "outputs": [],
   "source": [
    "print('Mean life expectancy:')\n",
    "[f\"{i[0]}: {i[1]['Life expectancy (years)'].mean():.1f} years\" for i in group_by_region]"
   ]
  },
  {
   "cell_type": "code",
   "execution_count": null,
   "metadata": {},
   "outputs": [],
   "source": []
  }
 ],
 "metadata": {
  "file_extension": ".py",
  "kernelspec": {
   "display_name": "Python 3.7.4 64-bit ('anaconda3': virtualenv)",
   "language": "python",
   "name": "python37464bitanaconda3virtualenv100eb20cdf104c53a74bc4f1cac14e80"
  },
  "language_info": {
   "codemirror_mode": {
    "name": "ipython",
    "version": 3
   },
   "file_extension": ".py",
   "mimetype": "text/x-python",
   "name": "python",
   "nbconvert_exporter": "python",
   "pygments_lexer": "ipython3",
   "version": "3.7.4"
  },
  "mimetype": "text/x-python",
  "name": "python",
  "npconvert_exporter": "python",
  "pygments_lexer": "ipython3",
  "version": 3
 },
 "nbformat": 4,
 "nbformat_minor": 4
}
