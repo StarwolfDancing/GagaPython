{
 "cells": [
  {
   "cell_type": "markdown",
   "metadata": {},
   "source": [
    "# 03 - Reshaping Data\n",
    "The [previous notebook](02-ABitMore.ipynb) showed a very awkward way to select some data from a long table. Now, we figure out a better way.\n",
    "\n",
    "## Scope\n",
    "- Read `csv` file (with data for all countries) into pandas data frame.\n",
    "- Reshaping the original `Dataframe` to fit our needs, i.e. creating columns for all countries.\n",
    "- Selecting countries and ploting data.\n",
    "\n",
    "## Sources\n",
    "- [10 minutes to pandas — pandas documentation](https://pandas.pydata.org/pandas-docs/stable/getting_started/10min.html)\n",
    "- [pandas.Index — pandas documentation](https://pandas.pydata.org/pandas-docs/stable/reference/api/pandas.Index.html)\n",
    "- [Indexing and selecting data — pandas documentation](https://pandas.pydata.org/pandas-docs/stable/reference/api/pandas.IndexSlice.html)"
   ]
  },
  {
   "cell_type": "code",
   "execution_count": null,
   "metadata": {},
   "outputs": [],
   "source": [
    "# Preparations for using pandas library and this notebook\n",
    "import pandas as pd\n",
    "%matplotlib inline"
   ]
  },
  {
   "cell_type": "code",
   "execution_count": null,
   "metadata": {},
   "outputs": [],
   "source": [
    "# Reading data into a pandas data frame, some cleaning up\n",
    "data_source = 'ourworldindata.org'\n",
    "file_id = 'life-expectancy.csv'\n",
    "life_expectancy = pd.read_csv(file_id)\n",
    "life_expectancy.drop(columns=['Code'], inplace=True)\t# Unused column\n",
    "life_expectancy.rename(columns={'Entity': 'Country'}, inplace=True)\n",
    "life_expectancy.head()"
   ]
  },
  {
   "cell_type": "code",
   "execution_count": null,
   "metadata": {},
   "outputs": [],
   "source": [
    "# Reshaping data\n",
    "life_expectancy_pivot = life_expectancy.pivot(index='Year', columns='Country', values='Life expectancy (years)')\n",
    "life_expectancy_pivot"
   ]
  },
  {
   "cell_type": "markdown",
   "metadata": {},
   "source": [
    "### Questions\n",
    "- What is `NaN`? Have a look in `pandas` and `numpy` documentation!"
   ]
  },
  {
   "cell_type": "code",
   "execution_count": null,
   "metadata": {},
   "outputs": [],
   "source": [
    "all_countries = life_expectancy_pivot.columns\n",
    "all_countries"
   ]
  },
  {
   "cell_type": "code",
   "execution_count": null,
   "metadata": {},
   "outputs": [],
   "source": [
    "country_list = ['Africa', 'World', 'Germany']"
   ]
  },
  {
   "cell_type": "code",
   "execution_count": null,
   "metadata": {},
   "outputs": [],
   "source": [
    "some_countries = life_expectancy_pivot[country_list]\n",
    "some_countries.tail()"
   ]
  },
  {
   "cell_type": "code",
   "execution_count": null,
   "metadata": {},
   "outputs": [],
   "source": [
    "country_string = ', '.join(country_list)    # List in nicer form\n",
    "plot_title = f'Countries:  {country_string}. Source: {file_id} from {data_source})'\n",
    "some_countries.plot(title=plot_title, grid=True, figsize=(16, 9));"
   ]
  },
  {
   "cell_type": "markdown",
   "metadata": {},
   "source": [
    "### Questions\n",
    "- How to get rid of the empty part of the `some_countries` plot ([`NaN`](https://pandas.pydata.org/pandas-docs/stable/reference/api/pandas.DataFrame.dropna.html))?\n",
    "- How to find a certain country [without knowing the exact name](https://pandas.pydata.org/pandas-docs/stable/reference/api/pandas.Series.str.contains.html)?\n",
    "- What does the `;` at the end of a cell do?\n",
    "\n",
    "Next step deals with [groups of data](04-GroupingData.ipynb)."
   ]
  },
  {
   "cell_type": "code",
   "execution_count": null,
   "metadata": {},
   "outputs": [],
   "source": []
  }
 ],
 "metadata": {
  "file_extension": ".py",
  "kernelspec": {
   "display_name": "Python 3.7.4 64-bit ('anaconda3': virtualenv)",
   "language": "python",
   "name": "python37464bitanaconda3virtualenv100eb20cdf104c53a74bc4f1cac14e80"
  },
  "language_info": {
   "codemirror_mode": {
    "name": "ipython",
    "version": 3
   },
   "file_extension": ".py",
   "mimetype": "text/x-python",
   "name": "python",
   "nbconvert_exporter": "python",
   "pygments_lexer": "ipython3",
   "version": "3.7.4"
  },
  "mimetype": "text/x-python",
  "name": "python",
  "npconvert_exporter": "python",
  "pygments_lexer": "ipython3",
  "version": 3
 },
 "nbformat": 4,
 "nbformat_minor": 4
}
