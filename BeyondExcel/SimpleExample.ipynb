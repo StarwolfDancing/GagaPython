{
 "cells": [
  {
   "cell_type": "markdown",
   "metadata": {},
   "source": [
    "# A very simple example\n",
    "\n",
    "I like to start with a current issue to learn someting new. Most people probably have come accross Excel in one way or another. For me, a better, faster ... way to do Excel stuff is to use the [Pandas](https://pandas.pydata.org) library. And the results look a lot better.\n",
    "\n",
    "## Source\n",
    "- [Life Expectancy - Our World in Data](https://ourworldindata.org/life-expectancy)\n",
    "- [IO tools (text, CSV, HDF5, …) — pandas documentation](https://pandas.pydata.org/docs/user_guide/io.html)\n",
    "- [pandas.DataFrame.plot — pandas documentation](https://pandas.pydata.org/docs/reference/api/pandas.DataFrame.plot.html)\n",
    "\n",
    "**Start below by clicking cell, hit Shift-Enter and see what's happening**"
   ]
  },
  {
   "cell_type": "code",
   "execution_count": null,
   "metadata": {},
   "outputs": [],
   "source": [
    "import pandas as pd\n",
    "# Makes your plot outputs appear and be stored within the notebook\n",
    "%matplotlib inline\n",
    "pd.__version__"
   ]
  },
  {
   "cell_type": "code",
   "execution_count": null,
   "metadata": {},
   "outputs": [],
   "source": [
    "data_source = 'ourworldindata.org'\n",
    "file_id = 'life-expectancy_world.csv'\n",
    "life_expectancy_world = pd.read_csv(file_id).set_index('Year')\n",
    "life_expectancy_world.head()"
   ]
  },
  {
   "cell_type": "code",
   "execution_count": null,
   "metadata": {},
   "outputs": [],
   "source": [
    "life_expectancy_world.plot(title=f'Source: {data_source} ({file_id})', grid=True, figsize=(16, 9));"
   ]
  },
  {
   "cell_type": "code",
   "execution_count": null,
   "metadata": {},
   "outputs": [],
   "source": []
  }
 ],
 "metadata": {
  "file_extension": ".py",
  "kernelspec": {
   "display_name": "Python 3.7.4 64-bit ('anaconda3': virtualenv)",
   "language": "python",
   "name": "python37464bitanaconda3virtualenv100eb20cdf104c53a74bc4f1cac14e80"
  },
  "language_info": {
   "codemirror_mode": {
    "name": "ipython",
    "version": 3
   },
   "file_extension": ".py",
   "mimetype": "text/x-python",
   "name": "python",
   "nbconvert_exporter": "python",
   "pygments_lexer": "ipython3",
   "version": "3.7.4"
  },
  "mimetype": "text/x-python",
  "name": "python",
  "npconvert_exporter": "python",
  "pygments_lexer": "ipython3",
  "version": 3
 },
 "nbformat": 4,
 "nbformat_minor": 4
}
