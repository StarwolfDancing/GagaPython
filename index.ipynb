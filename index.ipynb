{
 "cells": [
  {
   "cell_type": "markdown",
   "metadata": {},
   "source": [
    "# [GagaPython](README.md)\n",
    "Fun project for regular people;o) i.e. people without programming, computer science or engineering background. [Gaga](https://www.duden.de/rechtschreibung/gaga_nicht_recht_bei_Verstand) means for me nicely crazy, fun ... It is an attempt to interest some of my friends in Python and to have some fun;o).</br>\n",
    "To learn something new, I like to start with a personal topic and learn the necessary tool on my way. You find a cool example in chapter 1 of [Think Stats: Exploratory Data Analysis in Python](http://greenteapress.com/thinkstats2/html/thinkstats2002.html) by [Allen B. Downey](https://en.wikipedia.org/wiki/Allen_B._Downey).</br>\n",
    "To dig into specific programming topic, e.g. [Markdown](https://en.wikipedia.org/wiki/Markdown), I create small files, e.g. `OnMarkdown.md`, to familiarise myself with the topic.\n",
    "\n",
    "## No Worries!\n",
    "No matter what you do in these notebooks, you cannot damage anything. In case of panic, just go back to [Start](https://mybinder.org/v2/gh/StarwolfDancingWithHisPack/GagaPython/GettingStarted?urlpath=lab/tree/index.ipynb);o) But it also means that none of your changes are stored automatically.\n",
    "\n",
    "## Notebooks\n",
    "1. [For the impatient](./notebooks/01-ForTheImpatient.ipynb)\n",
    "3. [A bit more](./notebooks/02-ABitMore.ipynb)\n",
    "4. [Reshaping data](./notebooks/03-ReshapeData.ipynb)\n",
    "4. [Grouping data](./notebooks/04-GroupingData.ipynb)\n",
    "\n",
    "## Notebook Changes\n",
    "**Save your changes by using `Download/Upload` as shown below.** You can also check out `Save to browser storage/Restore from browser storage`, but it depends on your browser cache!\n",
    "\n",
    "<img src=\"images/SaveYourChanges.png\" alt=\"Safe your changes\">\n",
    "\n",
    "## Further Resources\n",
    "- Introductions\n",
    "    - [Jupyter Notebook: An Introduction – Real Python](https://realpython.com/jupyter-notebook-introduction)\n",
    "    - [Project Jupyter | Try Jupyter](https://jupyter.org/try)\n",
    "    - [Learning numerical computing with notebooks for all ages](https://github.com/eka-foundation/numerical-computing-is-fun)\n",
    "- Lots of Python ... stuff\n",
    "    - [Corey Schafer - YouTube](https://www.youtube.com/channel/UCCezIgC97PvUuR4_gbFUs5g)\n",
    "- Whole course\n",
    "    - [EuroScipy 2016 Pandas Tutorial](https://github.com/jorisvandenbossche/pandas-tutorial/blob/master/README.md)"
   ]
  },
  {
   "cell_type": "code",
   "execution_count": null,
   "metadata": {},
   "outputs": [],
   "source": []
  }
 ],
 "metadata": {
  "file_extension": ".py",
  "kernelspec": {
   "display_name": "Python 3",
   "language": "python",
   "name": "python3"
  },
  "language_info": {
   "codemirror_mode": {
    "name": "ipython",
    "version": 3
   },
   "file_extension": ".py",
   "mimetype": "text/x-python",
   "name": "python",
   "nbconvert_exporter": "python",
   "pygments_lexer": "ipython3",
   "version": "3.7.5"
  },
  "mimetype": "text/x-python",
  "name": "python",
  "npconvert_exporter": "python",
  "pygments_lexer": "ipython3",
  "version": 3
 },
 "nbformat": 4,
 "nbformat_minor": 4
}
