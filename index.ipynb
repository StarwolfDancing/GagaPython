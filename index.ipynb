{
 "cells": [
  {
   "cell_type": "markdown",
   "metadata": {},
   "source": [
    "# GagaPython\n",
    "Project context you'll find in [README](README.md).\n",
    "\n",
    "## Sources\n",
    "- [Jupyter Notebook: An Introduction – Real Python](https://realpython.com/jupyter-notebook-introduction)\n",
    "- [GitHub - eka-foundation/numerical-computing-is-fun: Learning numerical computing with notebooks for all ages.](https://github.com/eka-foundation/numerical-computing-is-fun)\n",
    "- [Corey Schafer - YouTube](https://www.youtube.com/channel/UCCezIgC97PvUuR4_gbFUs5g)\n",
    "\n",
    "## Warning\n",
    "**To save your changes, you can use controls shown below of your notebook (Download/Save to browser storage/Restore from browser storage). For the two last options you should not delecte you browser cache! Before you rely on your browser, check it out!**\n",
    "\n",
    "<img src=\"images/SaveYourChanges.png\" alt=\"Safe your changes\">\n",
    "\n",
    "## Notebooks\n",
    "1. [Simple Example](./notebooks/01-SimpleExample.ipynb)"
   ]
  }
 ],
 "metadata": {
  "file_extension": ".py",
  "kernelspec": {
   "display_name": "Python 3",
   "language": "python",
   "name": "python3"
  },
  "language_info": {
   "codemirror_mode": {
    "name": "ipython",
    "version": 3
   },
   "file_extension": ".py",
   "mimetype": "text/x-python",
   "name": "python",
   "nbconvert_exporter": "python",
   "pygments_lexer": "ipython3",
   "version": "3.7.5"
  },
  "mimetype": "text/x-python",
  "name": "python",
  "npconvert_exporter": "python",
  "pygments_lexer": "ipython3",
  "version": 3
 },
 "nbformat": 4,
 "nbformat_minor": 4
}
